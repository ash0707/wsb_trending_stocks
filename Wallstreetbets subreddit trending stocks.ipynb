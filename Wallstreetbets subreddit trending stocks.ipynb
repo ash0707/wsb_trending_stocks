{
 "cells": [
  {
   "cell_type": "code",
   "execution_count": 1,
   "metadata": {},
   "outputs": [],
   "source": [
    "import pandas as pd \n",
    "import praw\n",
    "import re\n",
    "import requests \n",
    "from nltk.corpus import stopwords"
   ]
  },
  {
   "cell_type": "code",
   "execution_count": 2,
   "metadata": {},
   "outputs": [],
   "source": [
    "#import nltk\n",
    "#nltk.download('stopwords')"
   ]
  },
  {
   "cell_type": "code",
   "execution_count": 3,
   "metadata": {},
   "outputs": [],
   "source": [
    "# Get programatic access to reddit via https://www.reddit.com/prefs/apps\n",
    "# read the configuration from config file in format\n",
    "# [PRAW CONFIG]\n",
    "# client_id = <client id created>\n",
    "# client_secret = <client secret created>\n",
    "\n",
    "import configparser\n",
    "config = configparser.RawConfigParser()\n",
    "config.read('config.properties')\n",
    "praw_config = dict(config.items('PRAW CONFIG'))"
   ]
  },
  {
   "cell_type": "code",
   "execution_count": 4,
   "metadata": {},
   "outputs": [
    {
     "name": "stdout",
     "output_type": "stream",
     "text": [
      "True\n"
     ]
    }
   ],
   "source": [
    "_user_agent = \"Mozilla/5.0 (Windows NT 10.0; Win64; x64) AppleWebKit/537.36 (KHTML, like Gecko) Chrome/89.0.4389.114 Safari/537.36\"\n",
    "\n",
    "reddit = praw.Reddit(\n",
    "  client_id = praw_config['client_id'],\n",
    "  client_secret = praw_config['client_secret'],\n",
    "  user_agent = _user_agent\n",
    ")\n",
    "\n",
    "print(reddit.read_only)"
   ]
  },
  {
   "cell_type": "code",
   "execution_count": 5,
   "metadata": {},
   "outputs": [],
   "source": [
    "data = []\n",
    "for post in reddit.subreddit('wallstreetbets').hot(limit=500):\n",
    "    content = {\n",
    "        \"title\" : post.title,\n",
    "        \"text\" : post.selftext\n",
    "    }\n",
    "    data.append(content)\n",
    "\n",
    "df = pd.DataFrame(data)"
   ]
  },
  {
   "cell_type": "code",
   "execution_count": 6,
   "metadata": {},
   "outputs": [],
   "source": [
    "regex = re.compile('[^a-zA-Z0-9 ]')\n",
    "word_dict = {}\n",
    "\n",
    "for (index, row) in df.iterrows():\n",
    "    # titles\n",
    "    title = row['title']\n",
    "    \n",
    "    title = regex.sub('', title)\n",
    "    title_words = title.split()\n",
    "    \n",
    "    # content\n",
    "    content = row['text']\n",
    "    \n",
    "    content = regex.sub('', content)\n",
    "    content_words = content.split()\n",
    "    \n",
    "    # combine\n",
    "    words = title_words + content_words\n",
    "    # keep the case of the words intentionally - remove stopwords from lowercase only as uppercase stopwords could be tickers\n",
    "    filtered_words = [word for word in words if word not in stopwords.words('english')]\n",
    "    \n",
    "    for x in filtered_words:\n",
    "        if x in word_dict:\n",
    "            word_dict[x] += 1\n",
    "        else:\n",
    "            word_dict[x] = 1\n",
    "\n",
    "word_df = pd.DataFrame.from_dict(list(word_dict.items())).rename(columns = {0:\"Term\", 1:\"Frequency\"})"
   ]
  },
  {
   "cell_type": "code",
   "execution_count": 7,
   "metadata": {},
   "outputs": [],
   "source": [
    "#word_df.sort_values(by=\"Frequency\", ascending = False).head(50)"
   ]
  },
  {
   "cell_type": "code",
   "execution_count": 8,
   "metadata": {},
   "outputs": [],
   "source": [
    "# Get tickers from NASDAQ api to match\n",
    "import requests\n",
    "\n",
    "headers = {\n",
    "    \"User-Agent\" : _user_agent,\n",
    "}\n",
    "\n",
    "url = \"https://api.nasdaq.com/api/screener/stocks?tableonly=true&limit=7600\"\n",
    "r = requests.get(url, headers=headers)\n",
    "j = r.json()"
   ]
  },
  {
   "cell_type": "code",
   "execution_count": 9,
   "metadata": {},
   "outputs": [],
   "source": [
    "table = j['data']['table']['rows']\n",
    "#table\n",
    "df_tickers = pd.DataFrame(table)\n",
    "#df_tickers"
   ]
  },
  {
   "cell_type": "code",
   "execution_count": 10,
   "metadata": {},
   "outputs": [],
   "source": [
    "df_tickers = df_tickers.rename(columns = {\"symbol\":\"Term\", \"name\":\"Company_Name\"})\n",
    "df_tickers = df_tickers[['Term', 'Company_Name', 'netchange', 'pctchange', 'marketCap', 'lastsale']]"
   ]
  },
  {
   "cell_type": "code",
   "execution_count": 11,
   "metadata": {},
   "outputs": [],
   "source": [
    "trending_stocks_df = pd.merge(df_tickers, word_df, on=\"Term\")"
   ]
  },
  {
   "cell_type": "code",
   "execution_count": 12,
   "metadata": {},
   "outputs": [],
   "source": [
    "trending_stocks_df = trending_stocks_df.sort_values(by=\"Frequency\", ascending = False)\n",
    "trending_stocks_df = trending_stocks_df.reset_index(drop=True)"
   ]
  },
  {
   "cell_type": "code",
   "execution_count": 15,
   "metadata": {},
   "outputs": [],
   "source": [
    "trending_stocks_df = trending_stocks_df[trending_stocks_df['Frequency'] > 10]"
   ]
  },
  {
   "cell_type": "code",
   "execution_count": 16,
   "metadata": {
    "scrolled": false
   },
   "outputs": [
    {
     "data": {
      "text/html": [
       "<table border=\"1\" class=\"dataframe\">\n",
       "  <thead>\n",
       "    <tr style=\"text-align: right;\">\n",
       "      <th></th>\n",
       "      <th>Term</th>\n",
       "      <th>Company_Name</th>\n",
       "      <th>netchange</th>\n",
       "      <th>pctchange</th>\n",
       "      <th>marketCap</th>\n",
       "      <th>lastsale</th>\n",
       "      <th>Frequency</th>\n",
       "    </tr>\n",
       "  </thead>\n",
       "  <tbody>\n",
       "    <tr>\n",
       "      <th>0</th>\n",
       "      <td>DD</td>\n",
       "      <td>DuPont de Nemours, Inc. Common Stock</td>\n",
       "      <td>1.62</td>\n",
       "      <td>1.985%</td>\n",
       "      <td>44,295,528,049</td>\n",
       "      <td>$83.24</td>\n",
       "      <td>49</td>\n",
       "    </tr>\n",
       "    <tr>\n",
       "      <th>1</th>\n",
       "      <td>A</td>\n",
       "      <td>Agilent Technologies, Inc. Common Stock</td>\n",
       "      <td>1.13</td>\n",
       "      <td>0.869%</td>\n",
       "      <td>39,961,079,092</td>\n",
       "      <td>$131.15</td>\n",
       "      <td>43</td>\n",
       "    </tr>\n",
       "    <tr>\n",
       "      <th>2</th>\n",
       "      <td>UWMC</td>\n",
       "      <td>UWM Holdings Corporation Class A Common Stock</td>\n",
       "      <td>0.09</td>\n",
       "      <td>1.213%</td>\n",
       "      <td>12,054,856,680</td>\n",
       "      <td>$7.51</td>\n",
       "      <td>41</td>\n",
       "    </tr>\n",
       "    <tr>\n",
       "      <th>3</th>\n",
       "      <td>GME</td>\n",
       "      <td>GameStop Corporation Common Stock</td>\n",
       "      <td>-4.58</td>\n",
       "      <td>-2.784%</td>\n",
       "      <td>11,317,822,738</td>\n",
       "      <td>$159.92</td>\n",
       "      <td>38</td>\n",
       "    </tr>\n",
       "    <tr>\n",
       "      <th>4</th>\n",
       "      <td>CLOV</td>\n",
       "      <td>Clover Health Investments, Corp. Class A Commo...</td>\n",
       "      <td>0.21</td>\n",
       "      <td>2.893%</td>\n",
       "      <td>3,292,029,000</td>\n",
       "      <td>$7.47</td>\n",
       "      <td>35</td>\n",
       "    </tr>\n",
       "    <tr>\n",
       "      <th>5</th>\n",
       "      <td>PLTR</td>\n",
       "      <td>Palantir Technologies Inc. Class A Common Stock</td>\n",
       "      <td>1.71</td>\n",
       "      <td>9.309%</td>\n",
       "      <td>37,495,509,440</td>\n",
       "      <td>$20.08</td>\n",
       "      <td>28</td>\n",
       "    </tr>\n",
       "    <tr>\n",
       "      <th>6</th>\n",
       "      <td>TSLA</td>\n",
       "      <td>Tesla, Inc. Common Stock</td>\n",
       "      <td>18.05</td>\n",
       "      <td>3.157%</td>\n",
       "      <td>568,114,498,404</td>\n",
       "      <td>$589.74</td>\n",
       "      <td>23</td>\n",
       "    </tr>\n",
       "    <tr>\n",
       "      <th>7</th>\n",
       "      <td>TA</td>\n",
       "      <td>TravelCenters of America Inc. Common Stock</td>\n",
       "      <td>1.04</td>\n",
       "      <td>4.177%</td>\n",
       "      <td>377,734,622</td>\n",
       "      <td>$25.94</td>\n",
       "      <td>17</td>\n",
       "    </tr>\n",
       "    <tr>\n",
       "      <th>8</th>\n",
       "      <td>AMC</td>\n",
       "      <td>AMC Entertainment Holdings, Inc. Class A Commo...</td>\n",
       "      <td>0.21</td>\n",
       "      <td>1.644%</td>\n",
       "      <td>5,844,637,515</td>\n",
       "      <td>$12.98</td>\n",
       "      <td>15</td>\n",
       "    </tr>\n",
       "    <tr>\n",
       "      <th>9</th>\n",
       "      <td>VIAC</td>\n",
       "      <td>ViacomCBS Inc. Class B Common Stock</td>\n",
       "      <td>0.40</td>\n",
       "      <td>1.039%</td>\n",
       "      <td>25,147,292,886</td>\n",
       "      <td>$38.91</td>\n",
       "      <td>13</td>\n",
       "    </tr>\n",
       "    <tr>\n",
       "      <th>10</th>\n",
       "      <td>AMD</td>\n",
       "      <td>Advanced Micro Devices, Inc. Common Stock</td>\n",
       "      <td>1.50</td>\n",
       "      <td>2.052%</td>\n",
       "      <td>90,628,414,600</td>\n",
       "      <td>$74.59</td>\n",
       "      <td>11</td>\n",
       "    </tr>\n",
       "  </tbody>\n",
       "</table>"
      ],
      "text/plain": [
       "<IPython.core.display.HTML object>"
      ]
     },
     "metadata": {},
     "output_type": "display_data"
    }
   ],
   "source": [
    "from IPython.display import display, HTML\n",
    "display(HTML(trending_stocks_df.to_html()))"
   ]
  },
  {
   "cell_type": "code",
   "execution_count": null,
   "metadata": {},
   "outputs": [],
   "source": []
  }
 ],
 "metadata": {
  "kernelspec": {
   "display_name": "Python 3",
   "language": "python",
   "name": "python3"
  },
  "language_info": {
   "codemirror_mode": {
    "name": "ipython",
    "version": 3
   },
   "file_extension": ".py",
   "mimetype": "text/x-python",
   "name": "python",
   "nbconvert_exporter": "python",
   "pygments_lexer": "ipython3",
   "version": "3.7.3"
  }
 },
 "nbformat": 4,
 "nbformat_minor": 2
}
